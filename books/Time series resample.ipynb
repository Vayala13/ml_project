{
 "cells": [
  {
   "cell_type": "markdown",
   "metadata": {},
   "source": [
    "# Resampling time series"
   ]
  },
  {
   "cell_type": "code",
   "execution_count": 1,
   "metadata": {},
   "outputs": [],
   "source": [
    "import seaborn as sns\n",
    "from matplotlib import dates\n",
    "import matplotlib.pyplot as plt\n",
    "import pandas as pd\n",
    "import warnings\n",
    "from sklearn.preprocessing import StandardScaler\n",
    "import tabulate\n",
    "warnings.filterwarnings('ignore')\n",
    "# sns.set(font_scale=5.5)\n",
    "sns.set(style=\"darkgrid\")\n",
    "sns.set(rc={'figure.figsize':(11.7,8.27)}, font_scale=1.5)\n",
    "df_hrv = pd.read_csv(\"../data/original/HeartRateVariabilitySDNN.csv\")"
   ]
  },
  {
   "cell_type": "code",
   "execution_count": 41,
   "metadata": {},
   "outputs": [
    {
     "data": {
      "text/html": [
       "<div>\n",
       "<style scoped>\n",
       "    .dataframe tbody tr th:only-of-type {\n",
       "        vertical-align: middle;\n",
       "    }\n",
       "\n",
       "    .dataframe tbody tr th {\n",
       "        vertical-align: top;\n",
       "    }\n",
       "\n",
       "    .dataframe thead th {\n",
       "        text-align: right;\n",
       "    }\n",
       "</style>\n",
       "<table border=\"1\" class=\"dataframe\">\n",
       "  <thead>\n",
       "    <tr style=\"text-align: right;\">\n",
       "      <th></th>\n",
       "      <th>t+1</th>\n",
       "      <th>t</th>\n",
       "    </tr>\n",
       "  </thead>\n",
       "  <tbody>\n",
       "    <tr>\n",
       "      <th>0</th>\n",
       "      <td>NaN</td>\n",
       "      <td>38.75470</td>\n",
       "    </tr>\n",
       "    <tr>\n",
       "      <th>1</th>\n",
       "      <td>38.75470</td>\n",
       "      <td>36.47938</td>\n",
       "    </tr>\n",
       "    <tr>\n",
       "      <th>2</th>\n",
       "      <td>36.47938</td>\n",
       "      <td>34.20406</td>\n",
       "    </tr>\n",
       "    <tr>\n",
       "      <th>3</th>\n",
       "      <td>34.20406</td>\n",
       "      <td>31.92874</td>\n",
       "    </tr>\n",
       "    <tr>\n",
       "      <th>4</th>\n",
       "      <td>31.92874</td>\n",
       "      <td>29.65342</td>\n",
       "    </tr>\n",
       "  </tbody>\n",
       "</table>\n",
       "</div>"
      ],
      "text/plain": [
       "        t+1         t\n",
       "0       NaN  38.75470\n",
       "1  38.75470  36.47938\n",
       "2  36.47938  34.20406\n",
       "3  34.20406  31.92874\n",
       "4  31.92874  29.65342"
      ]
     },
     "execution_count": 41,
     "metadata": {},
     "output_type": "execute_result"
    }
   ],
   "source": [
    "def parse_date(x):\n",
    "    return pd.datetime.strptime(x[:-6],'%Y-%m-%d %H:%M:%S')\n",
    "\n",
    "series = pd.read_csv('../data/original/HeartRateVariabilitySDNN.csv', header=0, index_col=5, parse_dates=[5], squeeze=True, date_parser=parse_date)\n",
    "\n",
    "df['value'] = series['value'].resample('H').mean().interpolate()\n",
    "df['date'] = series.index\n",
    "\n",
    "# df_new = pd.DataFrame()\n",
    "# df_new['value'] = series['value'].resample('H').mean().interpolate()\n",
    "# df_new['creationDate'] = pd.to_datetime(df_new.index)\n",
    "# df_new = df_new.reset_index(drop=True)\n",
    "\n",
    "# df_new.head()\n",
    "\n",
    "temps = pd.DataFrame(df['value'].values)\n",
    "dataframe = pd.concat([temps.shift(1), temps], axis=1)\n",
    "dataframe.columns = ['t+1', 't']\n",
    "\n",
    "# dataframe.index = series.index\n",
    "dataframe.head(5)\n",
    "\n",
    "\n",
    "# df['original'] = series['value']\n",
    "\n",
    "# sns.scatterplot(data=df)\n",
    "\n",
    "# df.head(50)"
   ]
  },
  {
   "cell_type": "code",
   "execution_count": 11,
   "metadata": {},
   "outputs": [],
   "source": [
    "# df = series.resample('H').interpolate()\n"
   ]
  },
  {
   "cell_type": "code",
   "execution_count": null,
   "metadata": {},
   "outputs": [],
   "source": []
  }
 ],
 "metadata": {
  "kernelspec": {
   "display_name": "Python 3",
   "language": "python",
   "name": "python3"
  },
  "language_info": {
   "codemirror_mode": {
    "name": "ipython",
    "version": 3
   },
   "file_extension": ".py",
   "mimetype": "text/x-python",
   "name": "python",
   "nbconvert_exporter": "python",
   "pygments_lexer": "ipython3",
   "version": "3.7.4"
  }
 },
 "nbformat": 4,
 "nbformat_minor": 2
}
