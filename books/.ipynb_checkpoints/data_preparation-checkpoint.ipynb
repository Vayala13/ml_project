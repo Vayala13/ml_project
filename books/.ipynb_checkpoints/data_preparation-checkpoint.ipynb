{
 "cells": [
  {
   "cell_type": "code",
   "execution_count": 1,
   "metadata": {},
   "outputs": [],
   "source": [
    "import pandas as pd\n",
    "import warnings\n",
    "from dateutil.parser import parse\n",
    "from sklearn.preprocessing import StandardScaler\n",
    "scaler = StandardScaler()\n",
    "\n",
    "\n",
    "warnings.filterwarnings('ignore')"
   ]
  },
  {
   "cell_type": "code",
   "execution_count": 2,
   "metadata": {},
   "outputs": [
    {
     "data": {
      "text/plain": [
       "(556, 8)"
      ]
     },
     "execution_count": 2,
     "metadata": {},
     "output_type": "execute_result"
    }
   ],
   "source": [
    "df_as = pd.read_csv(\"../data/original/ActivitySummary.csv\")\n",
    "df_as.shape"
   ]
  },
  {
   "cell_type": "code",
   "execution_count": 3,
   "metadata": {},
   "outputs": [
    {
     "data": {
      "text/html": [
       "<div>\n",
       "<style scoped>\n",
       "    .dataframe tbody tr th:only-of-type {\n",
       "        vertical-align: middle;\n",
       "    }\n",
       "\n",
       "    .dataframe tbody tr th {\n",
       "        vertical-align: top;\n",
       "    }\n",
       "\n",
       "    .dataframe thead th {\n",
       "        text-align: right;\n",
       "    }\n",
       "</style>\n",
       "<table border=\"1\" class=\"dataframe\">\n",
       "  <thead>\n",
       "    <tr style=\"text-align: right;\">\n",
       "      <th></th>\n",
       "      <th>creationDate</th>\n",
       "      <th>activeEnergyBurned</th>\n",
       "      <th>appleExerciseTime</th>\n",
       "      <th>appleStandHours</th>\n",
       "    </tr>\n",
       "  </thead>\n",
       "  <tbody>\n",
       "    <tr>\n",
       "      <th>0</th>\n",
       "      <td>2018-01-14</td>\n",
       "      <td>0.000</td>\n",
       "      <td>0</td>\n",
       "      <td>0</td>\n",
       "    </tr>\n",
       "    <tr>\n",
       "      <th>1</th>\n",
       "      <td>2018-01-15</td>\n",
       "      <td>0.000</td>\n",
       "      <td>0</td>\n",
       "      <td>0</td>\n",
       "    </tr>\n",
       "    <tr>\n",
       "      <th>2</th>\n",
       "      <td>2018-01-16</td>\n",
       "      <td>356.837</td>\n",
       "      <td>1200</td>\n",
       "      <td>13</td>\n",
       "    </tr>\n",
       "    <tr>\n",
       "      <th>3</th>\n",
       "      <td>2018-01-17</td>\n",
       "      <td>409.932</td>\n",
       "      <td>1260</td>\n",
       "      <td>17</td>\n",
       "    </tr>\n",
       "    <tr>\n",
       "      <th>4</th>\n",
       "      <td>2018-01-18</td>\n",
       "      <td>369.308</td>\n",
       "      <td>600</td>\n",
       "      <td>15</td>\n",
       "    </tr>\n",
       "  </tbody>\n",
       "</table>\n",
       "</div>"
      ],
      "text/plain": [
       "  creationDate  activeEnergyBurned  appleExerciseTime  appleStandHours\n",
       "0   2018-01-14               0.000                  0                0\n",
       "1   2018-01-15               0.000                  0                0\n",
       "2   2018-01-16             356.837               1200               13\n",
       "3   2018-01-17             409.932               1260               17\n",
       "4   2018-01-18             369.308                600               15"
      ]
     },
     "execution_count": 3,
     "metadata": {},
     "output_type": "execute_result"
    }
   ],
   "source": [
    "import datetime\n",
    "\n",
    "# only relevant features\n",
    "df_as_filtered = df_as[['dateComponents','activeEnergyBurned','appleExerciseTime','appleStandHours']]\n",
    "       \n",
    "# convert to time\n",
    "for (index, value) in df_as_filtered.iterrows():\n",
    "    correct_time = datetime.datetime.strptime(value['dateComponents'], '%Y-%m-%d')\n",
    "    df_as_filtered.at[index, 'creationDate'] = correct_time\n",
    "    df_as_filtered.at[index, 'appleExerciseTime'] = value['appleExerciseTime'] * 60\n",
    "    \n",
    "\n",
    "df_as_final = df_as_filtered[['creationDate', 'activeEnergyBurned', 'appleExerciseTime', 'appleStandHours']]\n",
    "\n",
    "df_as_final.head()"
   ]
  },
  {
   "cell_type": "code",
   "execution_count": 4,
   "metadata": {},
   "outputs": [
    {
     "data": {
      "text/html": [
       "<div>\n",
       "<style scoped>\n",
       "    .dataframe tbody tr th:only-of-type {\n",
       "        vertical-align: middle;\n",
       "    }\n",
       "\n",
       "    .dataframe tbody tr th {\n",
       "        vertical-align: top;\n",
       "    }\n",
       "\n",
       "    .dataframe thead th {\n",
       "        text-align: right;\n",
       "    }\n",
       "</style>\n",
       "<table border=\"1\" class=\"dataframe\">\n",
       "  <thead>\n",
       "    <tr style=\"text-align: right;\">\n",
       "      <th></th>\n",
       "      <th>activeEnergyBurned</th>\n",
       "      <th>appleExerciseTime</th>\n",
       "      <th>appleStandHours</th>\n",
       "    </tr>\n",
       "    <tr>\n",
       "      <th>creationDate</th>\n",
       "      <th></th>\n",
       "      <th></th>\n",
       "      <th></th>\n",
       "    </tr>\n",
       "  </thead>\n",
       "  <tbody>\n",
       "    <tr>\n",
       "      <th>2018-01-14</th>\n",
       "      <td>0.000</td>\n",
       "      <td>0</td>\n",
       "      <td>0</td>\n",
       "    </tr>\n",
       "    <tr>\n",
       "      <th>2018-01-15</th>\n",
       "      <td>0.000</td>\n",
       "      <td>0</td>\n",
       "      <td>0</td>\n",
       "    </tr>\n",
       "    <tr>\n",
       "      <th>2018-01-16</th>\n",
       "      <td>356.837</td>\n",
       "      <td>1200</td>\n",
       "      <td>13</td>\n",
       "    </tr>\n",
       "    <tr>\n",
       "      <th>2018-01-17</th>\n",
       "      <td>409.932</td>\n",
       "      <td>1260</td>\n",
       "      <td>17</td>\n",
       "    </tr>\n",
       "    <tr>\n",
       "      <th>2018-01-18</th>\n",
       "      <td>369.308</td>\n",
       "      <td>600</td>\n",
       "      <td>15</td>\n",
       "    </tr>\n",
       "  </tbody>\n",
       "</table>\n",
       "</div>"
      ],
      "text/plain": [
       "              activeEnergyBurned  appleExerciseTime  appleStandHours\n",
       "creationDate                                                        \n",
       "2018-01-14                 0.000                  0                0\n",
       "2018-01-15                 0.000                  0                0\n",
       "2018-01-16               356.837               1200               13\n",
       "2018-01-17               409.932               1260               17\n",
       "2018-01-18               369.308                600               15"
      ]
     },
     "execution_count": 4,
     "metadata": {},
     "output_type": "execute_result"
    }
   ],
   "source": [
    "df_copy = df_as_final.set_index('creationDate')\n",
    "df_copy.head()"
   ]
  },
  {
   "cell_type": "code",
   "execution_count": 5,
   "metadata": {},
   "outputs": [
    {
     "data": {
      "text/plain": [
       "(932, 9)"
      ]
     },
     "execution_count": 5,
     "metadata": {},
     "output_type": "execute_result"
    }
   ],
   "source": [
    "df_hrv = pd.read_csv(\"../data/original/HeartRateVariabilitySDNN.csv\")\n",
    "df_hrv.shape"
   ]
  },
  {
   "cell_type": "code",
   "execution_count": 6,
   "metadata": {},
   "outputs": [
    {
     "data": {
      "text/html": [
       "<div>\n",
       "<style scoped>\n",
       "    .dataframe tbody tr th:only-of-type {\n",
       "        vertical-align: middle;\n",
       "    }\n",
       "\n",
       "    .dataframe tbody tr th {\n",
       "        vertical-align: top;\n",
       "    }\n",
       "\n",
       "    .dataframe thead th {\n",
       "        text-align: right;\n",
       "    }\n",
       "</style>\n",
       "<table border=\"1\" class=\"dataframe\">\n",
       "  <thead>\n",
       "    <tr style=\"text-align: right;\">\n",
       "      <th></th>\n",
       "      <th>creationDate</th>\n",
       "      <th>value</th>\n",
       "    </tr>\n",
       "  </thead>\n",
       "  <tbody>\n",
       "    <tr>\n",
       "      <th>0</th>\n",
       "      <td>2018-01-16 09:50:18+02:00</td>\n",
       "      <td>32.3970</td>\n",
       "    </tr>\n",
       "    <tr>\n",
       "      <th>1</th>\n",
       "      <td>2018-01-16 09:55:05+02:00</td>\n",
       "      <td>45.1124</td>\n",
       "    </tr>\n",
       "    <tr>\n",
       "      <th>2</th>\n",
       "      <td>2018-01-16 14:52:15+02:00</td>\n",
       "      <td>27.3781</td>\n",
       "    </tr>\n",
       "    <tr>\n",
       "      <th>3</th>\n",
       "      <td>2018-01-16 21:24:11+02:00</td>\n",
       "      <td>41.4216</td>\n",
       "    </tr>\n",
       "    <tr>\n",
       "      <th>4</th>\n",
       "      <td>2018-01-18 09:08:50+02:00</td>\n",
       "      <td>41.0526</td>\n",
       "    </tr>\n",
       "  </tbody>\n",
       "</table>\n",
       "</div>"
      ],
      "text/plain": [
       "               creationDate    value\n",
       "0 2018-01-16 09:50:18+02:00  32.3970\n",
       "1 2018-01-16 09:55:05+02:00  45.1124\n",
       "2 2018-01-16 14:52:15+02:00  27.3781\n",
       "3 2018-01-16 21:24:11+02:00  41.4216\n",
       "4 2018-01-18 09:08:50+02:00  41.0526"
      ]
     },
     "execution_count": 6,
     "metadata": {},
     "output_type": "execute_result"
    }
   ],
   "source": [
    "df_hrv_filtered = df_hrv[['creationDate', 'value']]\n",
    "\n",
    "# df_hrv_copy = df_hrv_filtered.set_index('creationDate')\n",
    "# df_hrv_copy.head()\n",
    "\n",
    "# convert from string to datetime\n",
    "df_hrv_filtered['creationDate'] = pd.to_datetime(df_hrv_filtered['creationDate'])\n",
    "# mean per day\n",
    "df_hrv_final = df_hrv_filtered.groupby(df_hrv_filtered['creationDate'].dt.date).mean()\n",
    "\n",
    "df_hrv_filtered.head()\n",
    "\n"
   ]
  },
  {
   "cell_type": "code",
   "execution_count": 7,
   "metadata": {},
   "outputs": [
    {
     "data": {
      "text/html": [
       "<div>\n",
       "<style scoped>\n",
       "    .dataframe tbody tr th:only-of-type {\n",
       "        vertical-align: middle;\n",
       "    }\n",
       "\n",
       "    .dataframe tbody tr th {\n",
       "        vertical-align: top;\n",
       "    }\n",
       "\n",
       "    .dataframe thead th {\n",
       "        text-align: right;\n",
       "    }\n",
       "</style>\n",
       "<table border=\"1\" class=\"dataframe\">\n",
       "  <thead>\n",
       "    <tr style=\"text-align: right;\">\n",
       "      <th></th>\n",
       "      <th>sourceName</th>\n",
       "      <th>sourceVersion</th>\n",
       "      <th>device</th>\n",
       "      <th>type</th>\n",
       "      <th>unit</th>\n",
       "      <th>creationDate</th>\n",
       "      <th>startDate</th>\n",
       "      <th>endDate</th>\n",
       "      <th>value</th>\n",
       "    </tr>\n",
       "  </thead>\n",
       "  <tbody>\n",
       "    <tr>\n",
       "      <th>0</th>\n",
       "      <td>Headspace</td>\n",
       "      <td>8769</td>\n",
       "      <td>NaN</td>\n",
       "      <td>MindfulSession</td>\n",
       "      <td>NaN</td>\n",
       "      <td>2018-01-14 11:16:40 +0200</td>\n",
       "      <td>2018-01-14 11:15:45 +0200</td>\n",
       "      <td>2018-01-14 11:16:05 +0200</td>\n",
       "      <td>NaN</td>\n",
       "    </tr>\n",
       "    <tr>\n",
       "      <th>1</th>\n",
       "      <td>Headspace</td>\n",
       "      <td>8769</td>\n",
       "      <td>NaN</td>\n",
       "      <td>MindfulSession</td>\n",
       "      <td>NaN</td>\n",
       "      <td>2018-01-14 11:16:40 +0200</td>\n",
       "      <td>2018-01-14 11:16:06 +0200</td>\n",
       "      <td>2018-01-14 11:16:11 +0200</td>\n",
       "      <td>NaN</td>\n",
       "    </tr>\n",
       "    <tr>\n",
       "      <th>2</th>\n",
       "      <td>Headspace</td>\n",
       "      <td>8769</td>\n",
       "      <td>NaN</td>\n",
       "      <td>MindfulSession</td>\n",
       "      <td>NaN</td>\n",
       "      <td>2018-01-14 11:16:40 +0200</td>\n",
       "      <td>2018-01-14 11:16:12 +0200</td>\n",
       "      <td>2018-01-14 11:16:14 +0200</td>\n",
       "      <td>NaN</td>\n",
       "    </tr>\n",
       "    <tr>\n",
       "      <th>3</th>\n",
       "      <td>Headspace</td>\n",
       "      <td>8769</td>\n",
       "      <td>NaN</td>\n",
       "      <td>MindfulSession</td>\n",
       "      <td>NaN</td>\n",
       "      <td>2018-01-14 11:16:40 +0200</td>\n",
       "      <td>2018-01-14 11:16:15 +0200</td>\n",
       "      <td>2018-01-14 11:16:18 +0200</td>\n",
       "      <td>NaN</td>\n",
       "    </tr>\n",
       "    <tr>\n",
       "      <th>4</th>\n",
       "      <td>Headspace</td>\n",
       "      <td>8769</td>\n",
       "      <td>NaN</td>\n",
       "      <td>MindfulSession</td>\n",
       "      <td>NaN</td>\n",
       "      <td>2018-01-14 11:16:40 +0200</td>\n",
       "      <td>2018-01-14 11:16:20 +0200</td>\n",
       "      <td>2018-01-14 11:16:20 +0200</td>\n",
       "      <td>NaN</td>\n",
       "    </tr>\n",
       "  </tbody>\n",
       "</table>\n",
       "</div>"
      ],
      "text/plain": [
       "  sourceName sourceVersion  device            type  unit  \\\n",
       "0  Headspace          8769     NaN  MindfulSession   NaN   \n",
       "1  Headspace          8769     NaN  MindfulSession   NaN   \n",
       "2  Headspace          8769     NaN  MindfulSession   NaN   \n",
       "3  Headspace          8769     NaN  MindfulSession   NaN   \n",
       "4  Headspace          8769     NaN  MindfulSession   NaN   \n",
       "\n",
       "                creationDate                  startDate  \\\n",
       "0  2018-01-14 11:16:40 +0200  2018-01-14 11:15:45 +0200   \n",
       "1  2018-01-14 11:16:40 +0200  2018-01-14 11:16:06 +0200   \n",
       "2  2018-01-14 11:16:40 +0200  2018-01-14 11:16:12 +0200   \n",
       "3  2018-01-14 11:16:40 +0200  2018-01-14 11:16:15 +0200   \n",
       "4  2018-01-14 11:16:40 +0200  2018-01-14 11:16:20 +0200   \n",
       "\n",
       "                     endDate  value  \n",
       "0  2018-01-14 11:16:05 +0200    NaN  \n",
       "1  2018-01-14 11:16:11 +0200    NaN  \n",
       "2  2018-01-14 11:16:14 +0200    NaN  \n",
       "3  2018-01-14 11:16:18 +0200    NaN  \n",
       "4  2018-01-14 11:16:20 +0200    NaN  "
      ]
     },
     "execution_count": 7,
     "metadata": {},
     "output_type": "execute_result"
    }
   ],
   "source": [
    "df_mindful = pd.read_csv(\"../data/original/MindfulSession.csv\")\n",
    "df_mindful.head()"
   ]
  },
  {
   "cell_type": "code",
   "execution_count": 8,
   "metadata": {},
   "outputs": [
    {
     "data": {
      "text/html": [
       "<div>\n",
       "<style scoped>\n",
       "    .dataframe tbody tr th:only-of-type {\n",
       "        vertical-align: middle;\n",
       "    }\n",
       "\n",
       "    .dataframe tbody tr th {\n",
       "        vertical-align: top;\n",
       "    }\n",
       "\n",
       "    .dataframe thead th {\n",
       "        text-align: right;\n",
       "    }\n",
       "</style>\n",
       "<table border=\"1\" class=\"dataframe\">\n",
       "  <thead>\n",
       "    <tr style=\"text-align: right;\">\n",
       "      <th></th>\n",
       "      <th>seconds</th>\n",
       "    </tr>\n",
       "    <tr>\n",
       "      <th>creationDate</th>\n",
       "      <th></th>\n",
       "    </tr>\n",
       "  </thead>\n",
       "  <tbody>\n",
       "    <tr>\n",
       "      <th>2018-01-14</th>\n",
       "      <td>1393.0</td>\n",
       "    </tr>\n",
       "    <tr>\n",
       "      <th>2018-01-16</th>\n",
       "      <td>689.0</td>\n",
       "    </tr>\n",
       "    <tr>\n",
       "      <th>2018-01-20</th>\n",
       "      <td>1382.0</td>\n",
       "    </tr>\n",
       "    <tr>\n",
       "      <th>2018-01-22</th>\n",
       "      <td>1792.0</td>\n",
       "    </tr>\n",
       "    <tr>\n",
       "      <th>2018-01-23</th>\n",
       "      <td>705.0</td>\n",
       "    </tr>\n",
       "  </tbody>\n",
       "</table>\n",
       "</div>"
      ],
      "text/plain": [
       "              seconds\n",
       "creationDate         \n",
       "2018-01-14     1393.0\n",
       "2018-01-16      689.0\n",
       "2018-01-20     1382.0\n",
       "2018-01-22     1792.0\n",
       "2018-01-23      705.0"
      ]
     },
     "execution_count": 8,
     "metadata": {},
     "output_type": "execute_result"
    }
   ],
   "source": [
    "# removed redundant features\n",
    "df_mindful_filtered = df_mindful[['creationDate','startDate', 'endDate']]\n",
    "df_mindful_filtered.head()\n",
    "\n",
    "# calculated duration between startDate and endDate\n",
    "df_mindful_filtered['duration'] = [time for \n",
    "                               time in \n",
    "                               pd.to_datetime(df_mindful['endDate']) - pd.to_datetime(df_mindful['startDate'])]\n",
    "\n",
    "df_mindful_final = df_mindful_filtered[['creationDate', 'duration']]\n",
    "\n",
    "# converted duration to seconds format\n",
    "df_mindful_filtered['seconds'] = df_mindful_filtered['duration'].dt.total_seconds()\n",
    "df_mindfulness = df_mindful_filtered[['creationDate', 'seconds']]\n",
    "\n",
    "# grouped days by seconds meditated\n",
    "df_final_mindful = df_mindfulness.groupby(pd.to_datetime(df_mindfulness['creationDate']).dt.date).sum()\n",
    "df_final_mindful.head()\n",
    "\n"
   ]
  },
  {
   "cell_type": "code",
   "execution_count": 9,
   "metadata": {},
   "outputs": [
    {
     "data": {
      "text/plain": [
       "(38408, 9)"
      ]
     },
     "execution_count": 9,
     "metadata": {},
     "output_type": "execute_result"
    }
   ],
   "source": [
    "df_step = pd.read_csv(\"../data/original/StepCount.csv\")\n",
    "df_step.shape"
   ]
  },
  {
   "cell_type": "code",
   "execution_count": 10,
   "metadata": {},
   "outputs": [
    {
     "data": {
      "text/html": [
       "<div>\n",
       "<style scoped>\n",
       "    .dataframe tbody tr th:only-of-type {\n",
       "        vertical-align: middle;\n",
       "    }\n",
       "\n",
       "    .dataframe tbody tr th {\n",
       "        vertical-align: top;\n",
       "    }\n",
       "\n",
       "    .dataframe thead th {\n",
       "        text-align: right;\n",
       "    }\n",
       "</style>\n",
       "<table border=\"1\" class=\"dataframe\">\n",
       "  <thead>\n",
       "    <tr style=\"text-align: right;\">\n",
       "      <th></th>\n",
       "      <th>creationDate</th>\n",
       "      <th>value</th>\n",
       "    </tr>\n",
       "  </thead>\n",
       "  <tbody>\n",
       "    <tr>\n",
       "      <th>0</th>\n",
       "      <td>2018-01-13 00:37:45 +0200</td>\n",
       "      <td>12</td>\n",
       "    </tr>\n",
       "    <tr>\n",
       "      <th>1</th>\n",
       "      <td>2018-01-13 00:37:45 +0200</td>\n",
       "      <td>4</td>\n",
       "    </tr>\n",
       "    <tr>\n",
       "      <th>2</th>\n",
       "      <td>2018-01-13 01:39:00 +0200</td>\n",
       "      <td>77</td>\n",
       "    </tr>\n",
       "    <tr>\n",
       "      <th>3</th>\n",
       "      <td>2018-01-13 10:38:15 +0200</td>\n",
       "      <td>16</td>\n",
       "    </tr>\n",
       "    <tr>\n",
       "      <th>4</th>\n",
       "      <td>2018-01-13 15:42:21 +0200</td>\n",
       "      <td>13</td>\n",
       "    </tr>\n",
       "  </tbody>\n",
       "</table>\n",
       "</div>"
      ],
      "text/plain": [
       "                creationDate  value\n",
       "0  2018-01-13 00:37:45 +0200     12\n",
       "1  2018-01-13 00:37:45 +0200      4\n",
       "2  2018-01-13 01:39:00 +0200     77\n",
       "3  2018-01-13 10:38:15 +0200     16\n",
       "4  2018-01-13 15:42:21 +0200     13"
      ]
     },
     "execution_count": 10,
     "metadata": {},
     "output_type": "execute_result"
    }
   ],
   "source": [
    "df_step_filtered = df_step[['creationDate', 'value']]\n",
    "df_step_filtered.head()"
   ]
  },
  {
   "cell_type": "code",
   "execution_count": 11,
   "metadata": {},
   "outputs": [
    {
     "data": {
      "text/plain": [
       "(626, 1)"
      ]
     },
     "execution_count": 11,
     "metadata": {},
     "output_type": "execute_result"
    }
   ],
   "source": [
    "# convert from string to datetime\n",
    "df_step_filtered['creationDate'] = pd.to_datetime(df_step_filtered['creationDate'])\n",
    "# sum total per day\n",
    "df_step_final = df_step_filtered.groupby(df_step_filtered['creationDate'].dt.date).sum()\n",
    "\n",
    "df_step_final.shape\n",
    "\n",
    "# for (item, value) in df_step_final.iterrows():\n",
    "#     print(value)\n",
    "#     break\n"
   ]
  },
  {
   "cell_type": "code",
   "execution_count": 12,
   "metadata": {},
   "outputs": [
    {
     "name": "stdout",
     "output_type": "stream",
     "text": [
      "0\n",
      "creationDate    2018-01-13\n",
      "value                 8337\n",
      "Name: 0, dtype: object\n",
      "2018-01-13\n",
      "8337\n"
     ]
    }
   ],
   "source": [
    "for (index, row) in df_step_final.reset_index().iterrows():\n",
    "    print(index)\n",
    "    print(row)\n",
    "    creationDate, value = row\n",
    "    print(creationDate)\n",
    "    print(value)\n",
    "    break"
   ]
  },
  {
   "cell_type": "code",
   "execution_count": 13,
   "metadata": {},
   "outputs": [],
   "source": [
    "df_flights_climbed = pd.read_csv(\"../data/original/FlightsClimbed.csv\")\n",
    "# df_flights_climbed.head()"
   ]
  },
  {
   "cell_type": "code",
   "execution_count": 14,
   "metadata": {},
   "outputs": [],
   "source": [
    "df_flights_climbed_filtered = df_flights_climbed[['creationDate', 'value']]\n",
    "# df_flights_climbed_filtered.shape"
   ]
  },
  {
   "cell_type": "code",
   "execution_count": 15,
   "metadata": {},
   "outputs": [
    {
     "data": {
      "text/html": [
       "<div>\n",
       "<style scoped>\n",
       "    .dataframe tbody tr th:only-of-type {\n",
       "        vertical-align: middle;\n",
       "    }\n",
       "\n",
       "    .dataframe tbody tr th {\n",
       "        vertical-align: top;\n",
       "    }\n",
       "\n",
       "    .dataframe thead th {\n",
       "        text-align: right;\n",
       "    }\n",
       "</style>\n",
       "<table border=\"1\" class=\"dataframe\">\n",
       "  <thead>\n",
       "    <tr style=\"text-align: right;\">\n",
       "      <th></th>\n",
       "      <th>value</th>\n",
       "    </tr>\n",
       "    <tr>\n",
       "      <th>creationDate</th>\n",
       "      <th></th>\n",
       "    </tr>\n",
       "  </thead>\n",
       "  <tbody>\n",
       "    <tr>\n",
       "      <th>2018-01-13</th>\n",
       "      <td>3</td>\n",
       "    </tr>\n",
       "    <tr>\n",
       "      <th>2018-01-14</th>\n",
       "      <td>2</td>\n",
       "    </tr>\n",
       "    <tr>\n",
       "      <th>2018-01-15</th>\n",
       "      <td>23</td>\n",
       "    </tr>\n",
       "    <tr>\n",
       "      <th>2018-01-16</th>\n",
       "      <td>9</td>\n",
       "    </tr>\n",
       "    <tr>\n",
       "      <th>2018-01-17</th>\n",
       "      <td>5</td>\n",
       "    </tr>\n",
       "  </tbody>\n",
       "</table>\n",
       "</div>"
      ],
      "text/plain": [
       "              value\n",
       "creationDate       \n",
       "2018-01-13        3\n",
       "2018-01-14        2\n",
       "2018-01-15       23\n",
       "2018-01-16        9\n",
       "2018-01-17        5"
      ]
     },
     "execution_count": 15,
     "metadata": {},
     "output_type": "execute_result"
    }
   ],
   "source": [
    "time = df_flights_climbed_filtered['creationDate']\n",
    "time = pd.to_datetime(time)\n",
    "\n",
    "# df_flights_climbed_filtered.groupby(df_flights_climbed_filtered['creationDate'].dt.date).sum()\n",
    "\n",
    "df_flights_final = df_flights_climbed_filtered.groupby(time.dt.date).sum()\n",
    "df_flights_final.head()\n",
    "\n",
    "\n",
    "\n",
    "# df_flights_climbed_filtered.head()\n",
    "# DID:\n",
    "# 1 - removed redundant columns\n",
    "# 2 - sum per day of flights climbed"
   ]
  },
  {
   "cell_type": "markdown",
   "metadata": {},
   "source": [
    "## Aggregate ActivitySummary with all activities"
   ]
  },
  {
   "cell_type": "code",
   "execution_count": 47,
   "metadata": {},
   "outputs": [
    {
     "data": {
      "image/png": "[encoded data removed]",
      "text/plain": [
       "<Figure size 842.4x595.44 with 9 Axes>"
      ]
     },
     "metadata": {},
     "output_type": "display_data"
    }
   ],
   "source": [
    "from tabulate import tabulate\n",
    "\n",
    "\n",
    "results = pd.DataFrame()\n",
    "# results['Date'] = df_step_final['creationDate']\n",
    "results['SC (count)'] = df_step_final['value']\n",
    "results['FC (count)'] = df_flights_final['value']\n",
    "results['MT (seconds)'] = df_final_mindful['seconds']\n",
    "results['AEB (kcal)'] = df_copy['activeEnergyBurned']\n",
    "results['ET (seconds)'] = df_copy['appleExerciseTime']\n",
    "results['SU (count)'] = df_copy['appleStandHours']\n",
    "results['HRV (ms)'] = df_hrv_final['value']\n",
    "\n",
    "results.index.names = ['Date']\n",
    "\n",
    "\n",
    "# results = results.set_index('creationDate')\n",
    "\n",
    "# print(tabulate(results.dropna().head(),tablefmt=\"pipe\", headers=\"keys\"))\n",
    "\n",
    "results.dropna().corr()\n",
    "\n",
    "\n",
    "# print(tabulate(results.dropna().describe(),tablefmt=\"pipe\", headers=\"keys\"))\n",
    "# results.dropna().head()\n",
    "\n",
    "results.hist(figsize=(11.7,8.27))\n",
    "# histfig = ax_1.get_figure()\n",
    "# histfig.savefig(\"../report/images/ds1_hist.png\")\n",
    "# results.to_csv('../data/summary_shaped.csv')\n",
    "\n",
    "\n",
    "\n",
    "# for (index, row) in results.iterrows():\n",
    "#     print(type(row['creationDate']))\n",
    "#     print(pd.to_datetime('2018-01-01'))\n",
    "#     break\n",
    "\n",
    "\n"
   ]
  },
  {
   "cell_type": "code",
   "execution_count": 48,
   "metadata": {},
   "outputs": [
    {
     "data": {
      "image/png": "[encoded data removed]",
      "text/plain": [
       "<Figure size 842.4x595.44 with 9 Axes>"
      ]
     },
     "metadata": {},
     "output_type": "display_data"
    }
   ],
   "source": [
    "import matplotlib.pyplot as plt\n",
    "\n",
    "results.hist(figsize=(11.7,8.27))\n",
    "plt.savefig(\"../report/images/ds1_hist.png\")"
   ]
  },
  {
   "cell_type": "markdown",
   "metadata": {},
   "source": [
    "# Data set II"
   ]
  },
  {
   "cell_type": "code",
   "execution_count": 17,
   "metadata": {},
   "outputs": [],
   "source": [
    "import seaborn as sns\n",
    "from matplotlib import dates\n",
    "import matplotlib.pyplot as plt\n",
    "# sns.set(font_scale=5.5)\n",
    "sns.set(style=\"darkgrid\")\n",
    "sns.set(rc={'figure.figsize':(11.7,8.27)}, font_scale=1.5)"
   ]
  },
  {
   "cell_type": "code",
   "execution_count": 40,
   "metadata": {},
   "outputs": [
    {
     "name": "stdout",
     "output_type": "stream",
     "text": [
      "|       |   HRV (SDNN) |        IAW |       HOD |\n",
      "|:------|-------------:|-----------:|----------:|\n",
      "| count |    932       | 932        | 932       |\n",
      "| mean  |     41.2493  |   0.43133  |  14       |\n",
      "| std   |     15.6852  |   0.495528 |   5.30893 |\n",
      "| min   |      8.21203 |   0        |   0       |\n",
      "| 25%   |     30.8391  |   0        |  10       |\n",
      "| 50%   |     38.8085  |   0        |  14       |\n",
      "| 75%   |     49.5485  |   1        |  18       |\n",
      "| max   |    173.526   |   1        |  23       |\n"
     ]
    },
    {
     "data": {
      "image/png": "[encoded data removed]",
      "text/plain": [
       "<Figure size 432x288 with 1 Axes>"
      ]
     },
     "metadata": {},
     "output_type": "display_data"
    }
   ],
   "source": [
    "hrv_merged = pd.DataFrame()\n",
    "\n",
    "def at_work(row):\n",
    "    hour = pd.to_datetime(row['creationDate']).hour\n",
    "    weekday = pd.to_datetime(row['creationDate']).isoweekday()\n",
    "    \n",
    "    if((hour >= 9 and hour <17) and weekday < 6):\n",
    "        # print(pd.to_datetime(row['creationDate']), (weekday))\n",
    "        return 1\n",
    "    return 0\n",
    "    \n",
    "# winter is from 1st of November to 1st of April\n",
    "def is_winter(row):\n",
    "    month = pd.to_datetime(row['creationDate'], format='%d/%m').month\n",
    "    \n",
    "    if(month >= 10 or month < 4):\n",
    "        return 1\n",
    "    return 0\n",
    "\n",
    "def is_higher_than_mean(row):\n",
    "    mean = 41.25\n",
    "    if row.value > mean:\n",
    "        return 1\n",
    "    return 0\n",
    "\n",
    "def get_hour_of_day(row):\n",
    "    hour = pd.to_datetime(row['creationDate']).hour\n",
    "    return hour\n",
    "    \n",
    "hrv_merged['date'] = df_hrv_filtered['creationDate']\n",
    "hrv_merged['HRV (SDNN)'] = df_hrv_filtered['value']\n",
    "work_hours = []\n",
    "winter_time = []\n",
    "above_mean = []\n",
    "hour_of_day = []\n",
    "for (index, row) in df_hrv_filtered.iterrows():\n",
    "    work_hours.append(at_work(row))\n",
    "#     winter_time.append(is_winter(row))\n",
    "    above_mean.append(is_higher_than_mean(row))\n",
    "    hour_of_day.append(get_hour_of_day(row))\n",
    "\n",
    "\n",
    "    \n",
    "hrv_merged['IAW'] = work_hours\n",
    "# hrv_merged['Is Winter time (binary)'] = winter_time\n",
    "# hrv_merged['Is Above Mean Value'] = above_mean\n",
    "hrv_merged['HOD'] = hour_of_day\n",
    "\n",
    "hrv_merged.to_csv('../data/hrv_shaped.csv')\n",
    "hrv_summary = hrv_merged.describe()\n",
    "\n",
    "hrv_summary\n",
    "# print(tabulate(hrv_summary, tablefmt=\"pipe\", headers=\"keys\"))\n",
    "# results.head()\n",
    "\n",
    "hrv_copy = hrv_merged.set_index('date')\n",
    "\n",
    "# hrv_copy.head()\n",
    "hrv_scaled = scaler.fit_transform(hrv_copy)\n",
    "# # hrv_summary\n",
    "\n",
    "# hrv_merged.reset_index()\n",
    "# hrv_merged.head()\n",
    "\n",
    "# hrv_summary\n",
    "\n",
    "sx = sns.scatterplot(x=\"date\", y=\"HRV (SDNN)\", data=hrv_merged)\n",
    "sx.set(xlim = (pd.to_datetime('2018-01-13'), pd.to_datetime('2019-10-31')))\n",
    "\n",
    "# sx.set_title('HRV', fontsize=20)\n",
    "\n",
    "for item in sx.get_xticklabels():\n",
    "    item.set_rotation(45)\n",
    "# hrv_merged.hist()\n",
    "\n",
    "print(tabulate(hrv_summary, tablefmt=\"pipe\", headers=\"keys\"))\n",
    "\n",
    "# new_pd = pd.DataFrame(hrv_scaled)\n",
    "\n",
    "# new_pd.head()\n",
    "# hrv_merged = hrv_merged.set_index('date')\n",
    "# hrv_scaled = scaler.fit_transform(hrv_copy)\n",
    "# df_hrv_scaled = pd.DataFrame(hrv_scaled)\n",
    "# df_hrv_scaled.head(50)\n",
    "\n",
    "# hrv_copy.head(10)\n",
    "\n",
    "fig = sx.get_figure()\n",
    "fig.savefig(\"../report/images/dataset_3.png\")\n"
   ]
  },
  {
   "cell_type": "code",
   "execution_count": 25,
   "metadata": {},
   "outputs": [
    {
     "data": {
      "text/html": [
       "<div>\n",
       "<style scoped>\n",
       "    .dataframe tbody tr th:only-of-type {\n",
       "        vertical-align: middle;\n",
       "    }\n",
       "\n",
       "    .dataframe tbody tr th {\n",
       "        vertical-align: top;\n",
       "    }\n",
       "\n",
       "    .dataframe thead th {\n",
       "        text-align: right;\n",
       "    }\n",
       "</style>\n",
       "<table border=\"1\" class=\"dataframe\">\n",
       "  <thead>\n",
       "    <tr style=\"text-align: right;\">\n",
       "      <th></th>\n",
       "      <th>date</th>\n",
       "      <th>HRV (SDNN)</th>\n",
       "      <th>Is at Work (binary)</th>\n",
       "      <th>Is Above Mean Value</th>\n",
       "      <th>Hour of Day</th>\n",
       "    </tr>\n",
       "  </thead>\n",
       "  <tbody>\n",
       "    <tr>\n",
       "      <th>0</th>\n",
       "      <td>2018-01-16 09:50:18+02:00</td>\n",
       "      <td>32.3970</td>\n",
       "      <td>1</td>\n",
       "      <td>0</td>\n",
       "      <td>9</td>\n",
       "    </tr>\n",
       "    <tr>\n",
       "      <th>1</th>\n",
       "      <td>2018-01-16 09:55:05+02:00</td>\n",
       "      <td>45.1124</td>\n",
       "      <td>1</td>\n",
       "      <td>1</td>\n",
       "      <td>9</td>\n",
       "    </tr>\n",
       "    <tr>\n",
       "      <th>2</th>\n",
       "      <td>2018-01-16 14:52:15+02:00</td>\n",
       "      <td>27.3781</td>\n",
       "      <td>1</td>\n",
       "      <td>0</td>\n",
       "      <td>14</td>\n",
       "    </tr>\n",
       "    <tr>\n",
       "      <th>3</th>\n",
       "      <td>2018-01-16 21:24:11+02:00</td>\n",
       "      <td>41.4216</td>\n",
       "      <td>0</td>\n",
       "      <td>1</td>\n",
       "      <td>21</td>\n",
       "    </tr>\n",
       "    <tr>\n",
       "      <th>4</th>\n",
       "      <td>2018-01-18 09:08:50+02:00</td>\n",
       "      <td>41.0526</td>\n",
       "      <td>1</td>\n",
       "      <td>0</td>\n",
       "      <td>9</td>\n",
       "    </tr>\n",
       "  </tbody>\n",
       "</table>\n",
       "</div>"
      ],
      "text/plain": [
       "                       date  HRV (SDNN)  Is at Work (binary)  \\\n",
       "0 2018-01-16 09:50:18+02:00     32.3970                    1   \n",
       "1 2018-01-16 09:55:05+02:00     45.1124                    1   \n",
       "2 2018-01-16 14:52:15+02:00     27.3781                    1   \n",
       "3 2018-01-16 21:24:11+02:00     41.4216                    0   \n",
       "4 2018-01-18 09:08:50+02:00     41.0526                    1   \n",
       "\n",
       "   Is Above Mean Value  Hour of Day  \n",
       "0                    0            9  \n",
       "1                    1            9  \n",
       "2                    0           14  \n",
       "3                    1           21  \n",
       "4                    0            9  "
      ]
     },
     "execution_count": 25,
     "metadata": {},
     "output_type": "execute_result"
    },
    {
     "data": {
      "image/png": "[encoded data removed]",
      "text/plain": [
       "<Figure size 432x288 with 2 Axes>"
      ]
     },
     "metadata": {},
     "output_type": "display_data"
    }
   ],
   "source": [
    "import seaborn as sns\n",
    "\n",
    "hrv_merged.corr()\n",
    "\n",
    "sns.set(style=\"whitegrid\")\n",
    "sns.heatmap(hrv_merged.corr(),\n",
    "            vmin=-1,\n",
    "            cmap='coolwarm',\n",
    "            annot=True);\n",
    "\n",
    "hrv_merged.reset_index()\n",
    "hrv_merged.head()\n",
    "\n",
    "# sns.distplot(hrv_merged['HRV (SDNN)']);\n",
    "# hrv_merged['HRV (SDNN)'].describe()\n",
    "\n",
    "# sns.scatterplot(x=\"date\", y=\"HRV (SDNN)\",data=hrv_merged)\n"
   ]
  },
  {
   "cell_type": "code",
   "execution_count": 23,
   "metadata": {},
   "outputs": [],
   "source": [
    "# from sklearn.metrics.pairwise import pairwise_distances\n",
    "\n",
    "# jac_sim = 1 - pairwise_distances(hrv_merged.T, metric = \"hamming\")\n",
    "# jac_sim = pd.DataFrame(jac_sim, index=hrv_merged.columns, columns=hrv_merged.columns)\n",
    "\n",
    "# # sklearn.metrics.jaccard_score()\n",
    "\n",
    "# jac_sim.head()"
   ]
  },
  {
   "cell_type": "code",
   "execution_count": 24,
   "metadata": {},
   "outputs": [
    {
     "ename": "KeyError",
     "evalue": "'creationDate'",
     "output_type": "error",
     "traceback": [
      "\u001b[0;31m---------------------------------------------------------------------------\u001b[0m",
      "\u001b[0;31mKeyError\u001b[0m                                  Traceback (most recent call last)",
      "\u001b[0;32m~/.virtualenvs/ml_project/lib/python3.7/site-packages/pandas/core/indexes/base.py\u001b[0m in \u001b[0;36mget_loc\u001b[0;34m(self, key, method, tolerance)\u001b[0m\n\u001b[1;32m   2896\u001b[0m             \u001b[0;32mtry\u001b[0m\u001b[0;34m:\u001b[0m\u001b[0;34m\u001b[0m\u001b[0;34m\u001b[0m\u001b[0m\n\u001b[0;32m-> 2897\u001b[0;31m                 \u001b[0;32mreturn\u001b[0m \u001b[0mself\u001b[0m\u001b[0;34m.\u001b[0m\u001b[0m_engine\u001b[0m\u001b[0;34m.\u001b[0m\u001b[0mget_loc\u001b[0m\u001b[0;34m(\u001b[0m\u001b[0mkey\u001b[0m\u001b[0;34m)\u001b[0m\u001b[0;34m\u001b[0m\u001b[0;34m\u001b[0m\u001b[0m\n\u001b[0m\u001b[1;32m   2898\u001b[0m             \u001b[0;32mexcept\u001b[0m \u001b[0mKeyError\u001b[0m\u001b[0;34m:\u001b[0m\u001b[0;34m\u001b[0m\u001b[0;34m\u001b[0m\u001b[0m\n",
      "\u001b[0;32mpandas/_libs/index.pyx\u001b[0m in \u001b[0;36mpandas._libs.index.IndexEngine.get_loc\u001b[0;34m()\u001b[0m\n",
      "\u001b[0;32mpandas/_libs/index.pyx\u001b[0m in \u001b[0;36mpandas._libs.index.IndexEngine.get_loc\u001b[0;34m()\u001b[0m\n",
      "\u001b[0;32mpandas/_libs/hashtable_class_helper.pxi\u001b[0m in \u001b[0;36mpandas._libs.hashtable.PyObjectHashTable.get_item\u001b[0;34m()\u001b[0m\n",
      "\u001b[0;32mpandas/_libs/hashtable_class_helper.pxi\u001b[0m in \u001b[0;36mpandas._libs.hashtable.PyObjectHashTable.get_item\u001b[0;34m()\u001b[0m\n",
      "\u001b[0;31mKeyError\u001b[0m: 'creationDate'",
      "\nDuring handling of the above exception, another exception occurred:\n",
      "\u001b[0;31mKeyError\u001b[0m                                  Traceback (most recent call last)",
      "\u001b[0;32m<ipython-input-24-1e01c6c46818>\u001b[0m in \u001b[0;36m<module>\u001b[0;34m\u001b[0m\n\u001b[1;32m      2\u001b[0m \u001b[0mplt\u001b[0m\u001b[0;34m.\u001b[0m\u001b[0mfigure\u001b[0m\u001b[0;34m(\u001b[0m\u001b[0mfigsize\u001b[0m\u001b[0;34m=\u001b[0m\u001b[0;34m(\u001b[0m\u001b[0;36m10\u001b[0m\u001b[0;34m,\u001b[0m\u001b[0;36m10\u001b[0m\u001b[0;34m)\u001b[0m\u001b[0;34m)\u001b[0m\u001b[0;34m\u001b[0m\u001b[0;34m\u001b[0m\u001b[0m\n\u001b[1;32m      3\u001b[0m \u001b[0;34m\u001b[0m\u001b[0m\n\u001b[0;32m----> 4\u001b[0;31m \u001b[0max\u001b[0m \u001b[0;34m=\u001b[0m \u001b[0msns\u001b[0m\u001b[0;34m.\u001b[0m\u001b[0mscatterplot\u001b[0m\u001b[0;34m(\u001b[0m\u001b[0mx\u001b[0m\u001b[0;34m=\u001b[0m\u001b[0mresults\u001b[0m\u001b[0;34m[\u001b[0m\u001b[0;34m'creationDate'\u001b[0m\u001b[0;34m]\u001b[0m\u001b[0;34m,\u001b[0m \u001b[0my\u001b[0m\u001b[0;34m=\u001b[0m\u001b[0mresults\u001b[0m\u001b[0;34m[\u001b[0m\u001b[0;34m'Flights Climbed'\u001b[0m\u001b[0;34m]\u001b[0m\u001b[0;34m,\u001b[0m \u001b[0mdata\u001b[0m\u001b[0;34m=\u001b[0m\u001b[0mresults\u001b[0m\u001b[0;34m)\u001b[0m\u001b[0;34m\u001b[0m\u001b[0;34m\u001b[0m\u001b[0m\n\u001b[0m\u001b[1;32m      5\u001b[0m \u001b[0max\u001b[0m\u001b[0;34m.\u001b[0m\u001b[0mset\u001b[0m\u001b[0;34m(\u001b[0m\u001b[0mxlim\u001b[0m \u001b[0;34m=\u001b[0m \u001b[0;34m(\u001b[0m\u001b[0mpd\u001b[0m\u001b[0;34m.\u001b[0m\u001b[0mto_datetime\u001b[0m\u001b[0;34m(\u001b[0m\u001b[0;34m'2018-01-13'\u001b[0m\u001b[0;34m)\u001b[0m\u001b[0;34m,\u001b[0m \u001b[0mpd\u001b[0m\u001b[0;34m.\u001b[0m\u001b[0mto_datetime\u001b[0m\u001b[0;34m(\u001b[0m\u001b[0;34m'2019-12-31'\u001b[0m\u001b[0;34m)\u001b[0m\u001b[0;34m)\u001b[0m\u001b[0;34m)\u001b[0m\u001b[0;34m\u001b[0m\u001b[0;34m\u001b[0m\u001b[0m\n\u001b[1;32m      6\u001b[0m \u001b[0;32mfor\u001b[0m \u001b[0mitem\u001b[0m \u001b[0;32min\u001b[0m \u001b[0max\u001b[0m\u001b[0;34m.\u001b[0m\u001b[0mget_xticklabels\u001b[0m\u001b[0;34m(\u001b[0m\u001b[0;34m)\u001b[0m\u001b[0;34m:\u001b[0m\u001b[0;34m\u001b[0m\u001b[0;34m\u001b[0m\u001b[0m\n",
      "\u001b[0;32m~/.virtualenvs/ml_project/lib/python3.7/site-packages/pandas/core/frame.py\u001b[0m in \u001b[0;36m__getitem__\u001b[0;34m(self, key)\u001b[0m\n\u001b[1;32m   2993\u001b[0m             \u001b[0;32mif\u001b[0m \u001b[0mself\u001b[0m\u001b[0;34m.\u001b[0m\u001b[0mcolumns\u001b[0m\u001b[0;34m.\u001b[0m\u001b[0mnlevels\u001b[0m \u001b[0;34m>\u001b[0m \u001b[0;36m1\u001b[0m\u001b[0;34m:\u001b[0m\u001b[0;34m\u001b[0m\u001b[0;34m\u001b[0m\u001b[0m\n\u001b[1;32m   2994\u001b[0m                 \u001b[0;32mreturn\u001b[0m \u001b[0mself\u001b[0m\u001b[0;34m.\u001b[0m\u001b[0m_getitem_multilevel\u001b[0m\u001b[0;34m(\u001b[0m\u001b[0mkey\u001b[0m\u001b[0;34m)\u001b[0m\u001b[0;34m\u001b[0m\u001b[0;34m\u001b[0m\u001b[0m\n\u001b[0;32m-> 2995\u001b[0;31m             \u001b[0mindexer\u001b[0m \u001b[0;34m=\u001b[0m \u001b[0mself\u001b[0m\u001b[0;34m.\u001b[0m\u001b[0mcolumns\u001b[0m\u001b[0;34m.\u001b[0m\u001b[0mget_loc\u001b[0m\u001b[0;34m(\u001b[0m\u001b[0mkey\u001b[0m\u001b[0;34m)\u001b[0m\u001b[0;34m\u001b[0m\u001b[0;34m\u001b[0m\u001b[0m\n\u001b[0m\u001b[1;32m   2996\u001b[0m             \u001b[0;32mif\u001b[0m \u001b[0mis_integer\u001b[0m\u001b[0;34m(\u001b[0m\u001b[0mindexer\u001b[0m\u001b[0;34m)\u001b[0m\u001b[0;34m:\u001b[0m\u001b[0;34m\u001b[0m\u001b[0;34m\u001b[0m\u001b[0m\n\u001b[1;32m   2997\u001b[0m                 \u001b[0mindexer\u001b[0m \u001b[0;34m=\u001b[0m \u001b[0;34m[\u001b[0m\u001b[0mindexer\u001b[0m\u001b[0;34m]\u001b[0m\u001b[0;34m\u001b[0m\u001b[0;34m\u001b[0m\u001b[0m\n",
      "\u001b[0;32m~/.virtualenvs/ml_project/lib/python3.7/site-packages/pandas/core/indexes/base.py\u001b[0m in \u001b[0;36mget_loc\u001b[0;34m(self, key, method, tolerance)\u001b[0m\n\u001b[1;32m   2897\u001b[0m                 \u001b[0;32mreturn\u001b[0m \u001b[0mself\u001b[0m\u001b[0;34m.\u001b[0m\u001b[0m_engine\u001b[0m\u001b[0;34m.\u001b[0m\u001b[0mget_loc\u001b[0m\u001b[0;34m(\u001b[0m\u001b[0mkey\u001b[0m\u001b[0;34m)\u001b[0m\u001b[0;34m\u001b[0m\u001b[0;34m\u001b[0m\u001b[0m\n\u001b[1;32m   2898\u001b[0m             \u001b[0;32mexcept\u001b[0m \u001b[0mKeyError\u001b[0m\u001b[0;34m:\u001b[0m\u001b[0;34m\u001b[0m\u001b[0;34m\u001b[0m\u001b[0m\n\u001b[0;32m-> 2899\u001b[0;31m                 \u001b[0;32mreturn\u001b[0m \u001b[0mself\u001b[0m\u001b[0;34m.\u001b[0m\u001b[0m_engine\u001b[0m\u001b[0;34m.\u001b[0m\u001b[0mget_loc\u001b[0m\u001b[0;34m(\u001b[0m\u001b[0mself\u001b[0m\u001b[0;34m.\u001b[0m\u001b[0m_maybe_cast_indexer\u001b[0m\u001b[0;34m(\u001b[0m\u001b[0mkey\u001b[0m\u001b[0;34m)\u001b[0m\u001b[0;34m)\u001b[0m\u001b[0;34m\u001b[0m\u001b[0;34m\u001b[0m\u001b[0m\n\u001b[0m\u001b[1;32m   2900\u001b[0m         \u001b[0mindexer\u001b[0m \u001b[0;34m=\u001b[0m \u001b[0mself\u001b[0m\u001b[0;34m.\u001b[0m\u001b[0mget_indexer\u001b[0m\u001b[0;34m(\u001b[0m\u001b[0;34m[\u001b[0m\u001b[0mkey\u001b[0m\u001b[0;34m]\u001b[0m\u001b[0;34m,\u001b[0m \u001b[0mmethod\u001b[0m\u001b[0;34m=\u001b[0m\u001b[0mmethod\u001b[0m\u001b[0;34m,\u001b[0m \u001b[0mtolerance\u001b[0m\u001b[0;34m=\u001b[0m\u001b[0mtolerance\u001b[0m\u001b[0;34m)\u001b[0m\u001b[0;34m\u001b[0m\u001b[0;34m\u001b[0m\u001b[0m\n\u001b[1;32m   2901\u001b[0m         \u001b[0;32mif\u001b[0m \u001b[0mindexer\u001b[0m\u001b[0;34m.\u001b[0m\u001b[0mndim\u001b[0m \u001b[0;34m>\u001b[0m \u001b[0;36m1\u001b[0m \u001b[0;32mor\u001b[0m \u001b[0mindexer\u001b[0m\u001b[0;34m.\u001b[0m\u001b[0msize\u001b[0m \u001b[0;34m>\u001b[0m \u001b[0;36m1\u001b[0m\u001b[0;34m:\u001b[0m\u001b[0;34m\u001b[0m\u001b[0;34m\u001b[0m\u001b[0m\n",
      "\u001b[0;32mpandas/_libs/index.pyx\u001b[0m in \u001b[0;36mpandas._libs.index.IndexEngine.get_loc\u001b[0;34m()\u001b[0m\n",
      "\u001b[0;32mpandas/_libs/index.pyx\u001b[0m in \u001b[0;36mpandas._libs.index.IndexEngine.get_loc\u001b[0;34m()\u001b[0m\n",
      "\u001b[0;32mpandas/_libs/hashtable_class_helper.pxi\u001b[0m in \u001b[0;36mpandas._libs.hashtable.PyObjectHashTable.get_item\u001b[0;34m()\u001b[0m\n",
      "\u001b[0;32mpandas/_libs/hashtable_class_helper.pxi\u001b[0m in \u001b[0;36mpandas._libs.hashtable.PyObjectHashTable.get_item\u001b[0;34m()\u001b[0m\n",
      "\u001b[0;31mKeyError\u001b[0m: 'creationDate'"
     ]
    },
    {
     "data": {
      "text/plain": [
       "<Figure size 720x720 with 0 Axes>"
      ]
     },
     "metadata": {},
     "output_type": "display_data"
    }
   ],
   "source": [
    "# results = results.reset_index()\n",
    "plt.figure(figsize=(10,10))\n",
    "\n",
    "ax = sns.scatterplot(x=results['creationDate'], y=results['Flights Climbed'], data=results)\n",
    "ax.set(xlim = (pd.to_datetime('2018-01-13'), pd.to_datetime('2019-12-31')))\n",
    "for item in ax.get_xticklabels():\n",
    "    item.set_rotation(45)\n",
    "    \n"
   ]
  },
  {
   "cell_type": "code",
   "execution_count": null,
   "metadata": {},
   "outputs": [],
   "source": [
    "sns.set(style=\"darkgrid\")\n",
    "plt.figure(figsize=(10,10))\n",
    "bx = sns.scatterplot(x=results['creationDate'], y=results['Step Count'], data=results, color='red')\n",
    "bx.set(xlim = (pd.to_datetime('2018-01-13'), pd.to_datetime('2019-12-31')))\n",
    "for item in bx.get_xticklabels():\n",
    "    item.set_rotation(45)"
   ]
  },
  {
   "cell_type": "code",
   "execution_count": null,
   "metadata": {},
   "outputs": [],
   "source": [
    "plt.figure(figsize=(10,10))\n",
    "cx = sns.scatterplot(x=results['creationDate'], y=results['Heart Rate Variability (SDNN)'], data=results, color='green')\n",
    "cx.set(xlim = (pd.to_datetime('2018-01-13'), pd.to_datetime('2019-12-31')))\n",
    "for item in cx.get_xticklabels():\n",
    "    item.set_rotation(45)"
   ]
  },
  {
   "cell_type": "code",
   "execution_count": null,
   "metadata": {},
   "outputs": [],
   "source": [
    "plt.figure(figsize=(10,10))\n",
    "dx = sns.scatterplot(x=results['creationDate'], y=results['Exercise Time (seconds)'], data=results, color='black')\n",
    "dx.set(xlim = (pd.to_datetime('2018-01-13'), pd.to_datetime('2019-12-31')))\n",
    "for item in dx.get_xticklabels():\n",
    "    item.set_rotation(45)"
   ]
  },
  {
   "cell_type": "code",
   "execution_count": null,
   "metadata": {},
   "outputs": [],
   "source": [
    "sns.set(style=\"darkgrid\")\n",
    "# sns.set(rc={'figure.figsize':(16,13.27)}, font_scale=1.5)\n",
    "\n",
    "# results = results.reset_index()\n",
    "attributes = ['Step Count', 'Flights Climbed', 'Meditations (seconds)','Active Energy Burned (kcal)', 'Exercise Time (seconds)', 'Stand up number', 'Heart Rate Variability (SDNN)']\n",
    "\n",
    "sns.set(style=\"whitegrid\")\n",
    "hx = sns.heatmap(results[attributes].dropna().corr(),\n",
    "            vmin=-1,\n",
    "            cmap='coolwarm',\n",
    "            annot=True);\n",
    "\n",
    "for item in hx.get_xticklabels():\n",
    "    item.set_rotation(45)\n",
    "    \n",
    "for item in hx.get_yticklabels():\n",
    "    item.set_rotation(45)\n",
    "\n",
    "# results.dropna().corr()\n",
    "df = results.dropna()\n",
    "\n",
    "df\n",
    "\n",
    "fig = hx.get_figure()\n",
    "fig.savefig(\"../report/images/dataset_1_correlation.png\")\n",
    "# f = plt.figure(figsize=(19, 15))\n",
    "# plt.matshow(df.corr(), fignum=f.number)\n",
    "# plt.xticks(range(df.shape[1]), df.columns, fontsize=14, rotation=45)\n",
    "# plt.yticks(range(df.shape[1]), df.columns, fontsize=14)\n",
    "# cb = plt.colorbar()\n",
    "# cb.ax.tick_params(labelsize=14)\n",
    "# plt.title('Correlation Matrix', fontsize=16);"
   ]
  },
  {
   "cell_type": "code",
   "execution_count": 41,
   "metadata": {},
   "outputs": [
    {
     "ename": "KeyError",
     "evalue": "\"None of [Index(['Step Count', 'Flights Climbed', 'Meditations (seconds)',\\n       'Active Energy Burned (kcal)', 'Exercise Time (seconds)',\\n       'Stand up number', 'Heart Rate Variability (SDNN)'],\\n      dtype='object')] are in the [columns]\"",
     "output_type": "error",
     "traceback": [
      "\u001b[0;31m---------------------------------------------------------------------------\u001b[0m",
      "\u001b[0;31mKeyError\u001b[0m                                  Traceback (most recent call last)",
      "\u001b[0;32m<ipython-input-41-1038798f1563>\u001b[0m in \u001b[0;36m<module>\u001b[0;34m\u001b[0m\n\u001b[1;32m      4\u001b[0m \u001b[0;34m\u001b[0m\u001b[0m\n\u001b[1;32m      5\u001b[0m \u001b[0;34m\u001b[0m\u001b[0m\n\u001b[0;32m----> 6\u001b[0;31m \u001b[0mdf_filtered_res\u001b[0m \u001b[0;34m=\u001b[0m \u001b[0mresults\u001b[0m\u001b[0;34m[\u001b[0m\u001b[0mattributes\u001b[0m\u001b[0;34m]\u001b[0m\u001b[0;34m.\u001b[0m\u001b[0mdropna\u001b[0m\u001b[0;34m(\u001b[0m\u001b[0;34m)\u001b[0m\u001b[0;34m\u001b[0m\u001b[0;34m\u001b[0m\u001b[0m\n\u001b[0m\u001b[1;32m      7\u001b[0m \u001b[0;31m# results.head()\u001b[0m\u001b[0;34m\u001b[0m\u001b[0;34m\u001b[0m\u001b[0;34m\u001b[0m\u001b[0m\n\u001b[1;32m      8\u001b[0m \u001b[0;34m\u001b[0m\u001b[0m\n",
      "\u001b[0;32m~/.virtualenvs/ml_project/lib/python3.7/site-packages/pandas/core/frame.py\u001b[0m in \u001b[0;36m__getitem__\u001b[0;34m(self, key)\u001b[0m\n\u001b[1;32m   2999\u001b[0m             \u001b[0;32mif\u001b[0m \u001b[0mis_iterator\u001b[0m\u001b[0;34m(\u001b[0m\u001b[0mkey\u001b[0m\u001b[0;34m)\u001b[0m\u001b[0;34m:\u001b[0m\u001b[0;34m\u001b[0m\u001b[0;34m\u001b[0m\u001b[0m\n\u001b[1;32m   3000\u001b[0m                 \u001b[0mkey\u001b[0m \u001b[0;34m=\u001b[0m \u001b[0mlist\u001b[0m\u001b[0;34m(\u001b[0m\u001b[0mkey\u001b[0m\u001b[0;34m)\u001b[0m\u001b[0;34m\u001b[0m\u001b[0;34m\u001b[0m\u001b[0m\n\u001b[0;32m-> 3001\u001b[0;31m             \u001b[0mindexer\u001b[0m \u001b[0;34m=\u001b[0m \u001b[0mself\u001b[0m\u001b[0;34m.\u001b[0m\u001b[0mloc\u001b[0m\u001b[0;34m.\u001b[0m\u001b[0m_convert_to_indexer\u001b[0m\u001b[0;34m(\u001b[0m\u001b[0mkey\u001b[0m\u001b[0;34m,\u001b[0m \u001b[0maxis\u001b[0m\u001b[0;34m=\u001b[0m\u001b[0;36m1\u001b[0m\u001b[0;34m,\u001b[0m \u001b[0mraise_missing\u001b[0m\u001b[0;34m=\u001b[0m\u001b[0;32mTrue\u001b[0m\u001b[0;34m)\u001b[0m\u001b[0;34m\u001b[0m\u001b[0;34m\u001b[0m\u001b[0m\n\u001b[0m\u001b[1;32m   3002\u001b[0m \u001b[0;34m\u001b[0m\u001b[0m\n\u001b[1;32m   3003\u001b[0m         \u001b[0;31m# take() does not accept boolean indexers\u001b[0m\u001b[0;34m\u001b[0m\u001b[0;34m\u001b[0m\u001b[0;34m\u001b[0m\u001b[0m\n",
      "\u001b[0;32m~/.virtualenvs/ml_project/lib/python3.7/site-packages/pandas/core/indexing.py\u001b[0m in \u001b[0;36m_convert_to_indexer\u001b[0;34m(self, obj, axis, is_setter, raise_missing)\u001b[0m\n\u001b[1;32m   1283\u001b[0m                 \u001b[0;31m# When setting, missing keys are not allowed, even with .loc:\u001b[0m\u001b[0;34m\u001b[0m\u001b[0;34m\u001b[0m\u001b[0;34m\u001b[0m\u001b[0m\n\u001b[1;32m   1284\u001b[0m                 \u001b[0mkwargs\u001b[0m \u001b[0;34m=\u001b[0m \u001b[0;34m{\u001b[0m\u001b[0;34m\"raise_missing\"\u001b[0m\u001b[0;34m:\u001b[0m \u001b[0;32mTrue\u001b[0m \u001b[0;32mif\u001b[0m \u001b[0mis_setter\u001b[0m \u001b[0;32melse\u001b[0m \u001b[0mraise_missing\u001b[0m\u001b[0;34m}\u001b[0m\u001b[0;34m\u001b[0m\u001b[0;34m\u001b[0m\u001b[0m\n\u001b[0;32m-> 1285\u001b[0;31m                 \u001b[0;32mreturn\u001b[0m \u001b[0mself\u001b[0m\u001b[0;34m.\u001b[0m\u001b[0m_get_listlike_indexer\u001b[0m\u001b[0;34m(\u001b[0m\u001b[0mobj\u001b[0m\u001b[0;34m,\u001b[0m \u001b[0maxis\u001b[0m\u001b[0;34m,\u001b[0m \u001b[0;34m**\u001b[0m\u001b[0mkwargs\u001b[0m\u001b[0;34m)\u001b[0m\u001b[0;34m[\u001b[0m\u001b[0;36m1\u001b[0m\u001b[0;34m]\u001b[0m\u001b[0;34m\u001b[0m\u001b[0;34m\u001b[0m\u001b[0m\n\u001b[0m\u001b[1;32m   1286\u001b[0m         \u001b[0;32melse\u001b[0m\u001b[0;34m:\u001b[0m\u001b[0;34m\u001b[0m\u001b[0;34m\u001b[0m\u001b[0m\n\u001b[1;32m   1287\u001b[0m             \u001b[0;32mtry\u001b[0m\u001b[0;34m:\u001b[0m\u001b[0;34m\u001b[0m\u001b[0;34m\u001b[0m\u001b[0m\n",
      "\u001b[0;32m~/.virtualenvs/ml_project/lib/python3.7/site-packages/pandas/core/indexing.py\u001b[0m in \u001b[0;36m_get_listlike_indexer\u001b[0;34m(self, key, axis, raise_missing)\u001b[0m\n\u001b[1;32m   1090\u001b[0m \u001b[0;34m\u001b[0m\u001b[0m\n\u001b[1;32m   1091\u001b[0m         self._validate_read_indexer(\n\u001b[0;32m-> 1092\u001b[0;31m             \u001b[0mkeyarr\u001b[0m\u001b[0;34m,\u001b[0m \u001b[0mindexer\u001b[0m\u001b[0;34m,\u001b[0m \u001b[0mo\u001b[0m\u001b[0;34m.\u001b[0m\u001b[0m_get_axis_number\u001b[0m\u001b[0;34m(\u001b[0m\u001b[0maxis\u001b[0m\u001b[0;34m)\u001b[0m\u001b[0;34m,\u001b[0m \u001b[0mraise_missing\u001b[0m\u001b[0;34m=\u001b[0m\u001b[0mraise_missing\u001b[0m\u001b[0;34m\u001b[0m\u001b[0;34m\u001b[0m\u001b[0m\n\u001b[0m\u001b[1;32m   1093\u001b[0m         )\n\u001b[1;32m   1094\u001b[0m         \u001b[0;32mreturn\u001b[0m \u001b[0mkeyarr\u001b[0m\u001b[0;34m,\u001b[0m \u001b[0mindexer\u001b[0m\u001b[0;34m\u001b[0m\u001b[0;34m\u001b[0m\u001b[0m\n",
      "\u001b[0;32m~/.virtualenvs/ml_project/lib/python3.7/site-packages/pandas/core/indexing.py\u001b[0m in \u001b[0;36m_validate_read_indexer\u001b[0;34m(self, key, indexer, axis, raise_missing)\u001b[0m\n\u001b[1;32m   1175\u001b[0m                 raise KeyError(\n\u001b[1;32m   1176\u001b[0m                     \"None of [{key}] are in the [{axis}]\".format(\n\u001b[0;32m-> 1177\u001b[0;31m                         \u001b[0mkey\u001b[0m\u001b[0;34m=\u001b[0m\u001b[0mkey\u001b[0m\u001b[0;34m,\u001b[0m \u001b[0maxis\u001b[0m\u001b[0;34m=\u001b[0m\u001b[0mself\u001b[0m\u001b[0;34m.\u001b[0m\u001b[0mobj\u001b[0m\u001b[0;34m.\u001b[0m\u001b[0m_get_axis_name\u001b[0m\u001b[0;34m(\u001b[0m\u001b[0maxis\u001b[0m\u001b[0;34m)\u001b[0m\u001b[0;34m\u001b[0m\u001b[0;34m\u001b[0m\u001b[0m\n\u001b[0m\u001b[1;32m   1178\u001b[0m                     )\n\u001b[1;32m   1179\u001b[0m                 )\n",
      "\u001b[0;31mKeyError\u001b[0m: \"None of [Index(['Step Count', 'Flights Climbed', 'Meditations (seconds)',\\n       'Active Energy Burned (kcal)', 'Exercise Time (seconds)',\\n       'Stand up number', 'Heart Rate Variability (SDNN)'],\\n      dtype='object')] are in the [columns]\""
     ]
    }
   ],
   "source": [
    "\n",
    "\n",
    "# results=results.set_index('creationDate')\n",
    "# results=results.reset_index()\n",
    "attributes =['Step Count', 'Flights Climbed', 'Meditations (seconds)','Active Energy Burned (kcal)', 'Exercise Time (seconds)', 'Stand up number', 'Heart Rate Variability (SDNN)']\n",
    "\n",
    "\n",
    "df_filtered_res = results[attributes].dropna()\n",
    "# results.head()\n",
    "\n",
    "df_filtered_res.head()\n",
    "\n",
    "\n",
    "data_scaled = scaler.fit_transform(df_filtered_res)\n",
    "# plt.xticks(results['creationDate'])\n",
    "\n",
    "# data_scaled.min(axis=0)\n",
    "df_standardized = pd.DataFrame(data_scaled)\n",
    "df_standardized.columns = ['Step Count', 'Flights Climbed', 'Meditation Time','Active Energy Burned', 'Exercise Time', 'Stand Up Number', 'HRV']\n",
    "\n",
    "# df_standardized.head()\n",
    "rx = sns.scatterplot(data=df_standardized)\n",
    "rx.set(xlabel='Observation day', ylabel='Standardized Value')\n",
    "\n",
    "fig = rx.get_figure()\n",
    "fig.savefig(\"../report/images/dataset_1_scatterplot.png\")\n",
    "\n",
    "# df_standardized.describe()\n",
    "\n",
    "\n",
    "# wx = df_standardized.hist()\n",
    "# fig2 = wx.get_figure()\n",
    "# fig2.savefig(\"../report/images/dataset_1_hist.png\")\n",
    "\n",
    "\n",
    "\n",
    "# sns.heatmap(standardized.corr(),\n",
    "#             vmin=-1,\n",
    "#             cmap='coolwarm',\n",
    "#             annot=True);\n",
    "\n",
    "# print(data_scaled.min(axis=0))\n",
    "\n",
    "\n"
   ]
  },
  {
   "cell_type": "code",
   "execution_count": null,
   "metadata": {},
   "outputs": [],
   "source": [
    "fig, ax = plt.subplots()\n",
    "df_standardized.hist(ax=ax)\n",
    "fig.savefig(\"../report/images/dataset_1_hist.png\")\n",
    "\n",
    "\n"
   ]
  },
  {
   "cell_type": "code",
   "execution_count": null,
   "metadata": {},
   "outputs": [],
   "source": [
    "results.dropna().describe()"
   ]
  },
  {
   "cell_type": "code",
   "execution_count": null,
   "metadata": {},
   "outputs": [],
   "source": [
    "# df_standardized.columns=  ['Step Count','Flights Climbed','Meditations (seconds)','Active Energy Burned (kcal)','Exercise Time (seconds)','Stand up number','Heart Rate Variability (SDNN)']\n",
    "pd.options.display.float_format = '{:.2f}'.format\n",
    "df_standardized.round(1)\n",
    "df_standardized.head()"
   ]
  },
  {
   "cell_type": "markdown",
   "metadata": {},
   "source": [
    "# PCA"
   ]
  },
  {
   "cell_type": "code",
   "execution_count": null,
   "metadata": {},
   "outputs": [],
   "source": [
    "# standardize\n",
    "df_standardized.head()\n",
    "\n",
    "\n",
    "## features\n",
    "features = ['Step Count', 'Flights Climbed', 'Meditation Time','Active Energy Burned', 'Exercise Time', 'Stand Up Number']\n",
    "X = df_standardized.loc[:,features].values\n",
    "\n",
    "## target\n",
    "y = df_standardized.loc[:, ['HRV']].values\n",
    "\n",
    "\n",
    "df_standardized.loc[:,features].head()\n",
    "\n",
    "\n",
    "# results_nona.set_index('creationDate')\n",
    "# results_nona.head()\n",
    "\n"
   ]
  },
  {
   "cell_type": "code",
   "execution_count": null,
   "metadata": {},
   "outputs": [],
   "source": [
    "from sklearn.decomposition import PCA\n",
    "\n",
    "pca = PCA(n_components=2)\n",
    "\n",
    "principal_components = pca.fit_transform(X)\n",
    "\n",
    "df_principal = pd.DataFrame(data = principal_components\n",
    "             , columns = [0,1])\n",
    "\n",
    "\n",
    "# pca.explained_variance_, pca.components_, pca.get_covariance() \n",
    "\n",
    "\n",
    "# it's the pc directions\n",
    "pca.components_\n",
    "\n",
    "# fig 3.9\n",
    "# give v1 and v2 (and vn...)\n",
    "pca.explained_variance_ratio_.sum()\n",
    "\n",
    "df_final = pd.concat([df_principal, results[['Heart Rate Variability (SDNN)']]], axis = 1)\n",
    "\n",
    "\n",
    "\n",
    "# plt.scatter(principal_components[:, 0], principal_components[:, 1],\n",
    "#             c=y, edgecolor='none', alpha=0.5,\n",
    "#             cmap=plt.cm.get_cmap('Spectral', 10))\n",
    "# plt.xlabel('component 1')\n",
    "# plt.ylabel('component 2')\n",
    "# plt.colorbar();\n",
    "\n",
    "# df_standardized.head()\n",
    "\n",
    "pcx = sns.scatterplot(x=df_principal[0], y=df_principal[1], size=df_final['Heart Rate Variability (SDNN)'], hue=df_final['Heart Rate Variability (SDNN)'],data=df_final)\n",
    "\n",
    "# df_principal.max()\n",
    "\n",
    "# df_final.head()\n",
    "\n",
    "pcx.set(xlabel='Principal Component 0', ylabel='Principal Component 1')\n",
    "# df_principal[0]\n",
    "\n",
    "fig = pcx.get_figure()\n",
    "fig.savefig(\"../report/images/dataset_1_data_projection.png\")\n",
    "\n",
    "\n",
    "\n"
   ]
  },
  {
   "cell_type": "code",
   "execution_count": null,
   "metadata": {},
   "outputs": [],
   "source": [
    "ndf= pd.DataFrame(np.transpose(pca.components_))\n",
    "\n",
    "ndf.columns = ['Principal Component 0', 'Principal Component 1']\n",
    "ndf.head()\n",
    "\n",
    "print(tabulate(ndf, tablefmt=\"pipe\", headers=\"keys\"))\n",
    "\n",
    "\n"
   ]
  },
  {
   "cell_type": "code",
   "execution_count": null,
   "metadata": {},
   "outputs": [],
   "source": [
    "import numpy as np\n",
    "\n",
    "pca = PCA(n_components=7)\n",
    "principal_components = pca.fit_transform(df_standardized)\n",
    "\n",
    "sns.set(rc={'figure.figsize':(11.7,8.27)}, font_scale=1.5)\n",
    "# np.cumsum(pca.explained_variance_ratio_)\n",
    "\n",
    "evx = sns.lineplot(data=np.cumsum(pca.explained_variance_ratio_))\n",
    "evx.set(xlabel = \"Principal Component\", ylabel = \"Cumulative Explained Variance\")\n",
    "# plt.xlabel('number of components')\n",
    "# plt.ylabel('cumulative explained variance');\n",
    "\n",
    "# df_standardized.head()\n",
    "\n",
    "fig = evx.get_figure()\n",
    "fig.savefig(\"../report/images/dataset_1_pca_explained_variance.png\")\n",
    "\n",
    "pca.explained_variance_ratio_.sum()\n"
   ]
  },
  {
   "cell_type": "code",
   "execution_count": null,
   "metadata": {},
   "outputs": [],
   "source": [
    "# from sklearn.decomposition import TruncatedSVD\n",
    "\n",
    "# svd = TruncatedSVD(n_components=2)\n",
    "\n",
    "# svd.fit(X)  \n",
    "# TruncatedSVD(algorithm='randomized', n_components=2)\n",
    "# print(svd.explained_variance_ratio_)\n",
    "\n",
    "# print(svd.explained_variance_ratio_.sum())  \n",
    "\n",
    "# print(svd.singular_values_)\n"
   ]
  },
  {
   "cell_type": "code",
   "execution_count": null,
   "metadata": {},
   "outputs": [],
   "source": [
    "from sklearn.datasets import load_iris\n",
    "iris = load_iris()\n",
    "iris_data = iris.data\n",
    "\n",
    "from sklearn.decomposition import TruncatedSVD\n",
    "svd = TruncatedSVD(2)\n",
    "\n",
    "X_tranformed = svd.fit_transform(df_standardized)\n",
    "\n",
    "svd.explained_variance_\n",
    "\n",
    "# svd.components_\n",
    "\n",
    "# iris_transformed\n",
    "\n",
    "# sns.scatterplot(x=iris_transformed, y=iris_data)\n",
    "sns.scatterplot(x=X, y=y)\n",
    "\n"
   ]
  },
  {
   "cell_type": "code",
   "execution_count": null,
   "metadata": {},
   "outputs": [],
   "source": [
    "import seaborn as sns; sns.set()\n",
    "import matplotlib.pyplot as plt\n",
    "tips = sns.load_dataset(\"tips\")\n",
    "\n",
    "\n",
    "ax = sns.scatterplot(x=\"total_bill\", y=\"tip\", hue=tips['size'], style=tips['time'], data=tips)\n",
    "\n",
    "tips.head()"
   ]
  },
  {
   "cell_type": "code",
   "execution_count": null,
   "metadata": {},
   "outputs": [],
   "source": []
  }
 ],
 "metadata": {
  "kernelspec": {
   "display_name": "Python 3",
   "language": "python",
   "name": "python3"
  },
  "language_info": {
   "codemirror_mode": {
    "name": "ipython",
    "version": 3
   },
   "file_extension": ".py",
   "mimetype": "text/x-python",
   "name": "python",
   "nbconvert_exporter": "python",
   "pygments_lexer": "ipython3",
   "version": "3.7.4"
  }
 },
 "nbformat": 4,
 "nbformat_minor": 2
}
